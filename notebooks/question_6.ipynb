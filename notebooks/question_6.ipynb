{
 "cells": [
  {
   "cell_type": "code",
   "execution_count": 19,
   "id": "b297c043",
   "metadata": {},
   "outputs": [
    {
     "name": "stdout",
     "output_type": "stream",
     "text": [
      "Nominated\n",
      "0    0.026042\n",
      "1    0.281818\n",
      "Name: above_mode, dtype: float64\n"
     ]
    },
    {
     "name": "stderr",
     "output_type": "stream",
     "text": [
      "C:\\Users\\imran\\AppData\\Local\\Temp\\ipykernel_7740\\2806731324.py:17: SettingWithCopyWarning: \n",
      "A value is trying to be set on a copy of a slice from a DataFrame.\n",
      "Try using .loc[row_indexer,col_indexer] = value instead\n",
      "\n",
      "See the caveats in the documentation: https://pandas.pydata.org/pandas-docs/stable/user_guide/indexing.html#returning-a-view-versus-a-copy\n",
      "  movies_2023['above_mode'] = movies_2023['revenue'] > revenue_mode\n"
     ]
    }
   ],
   "source": [
    "# Are Oscars nominated production companies  consistently associated with high-performing movies?\n",
    "# Compare revenue between movies that were produced by these companies and the rest of movies realeased in 2023.\n",
    "\n",
    "import pandas as pd\n",
    "\n",
    "url = 'merged_data.csv'\n",
    "df = pd.read_csv(url)\n",
    "\n",
    "\n",
    "df['release_date'] = pd.to_datetime(df['release_date'], errors='coerce')\n",
    "\n",
    "movies_2023 = df[df['release_date'].dt.year == 2023]\n",
    "\n",
    "revenue_mode = movies_2023['revenue'].mode().iloc[0]\n",
    "\n",
    "movies_2023['above_mode'] = movies_2023['revenue'] > revenue_mode\n",
    "\n",
    "consistently_associated = movies_2023.groupby('Nominated')['above_mode'].mean()\n",
    "\n",
    "print(consistently_associated)\n",
    "\n",
    "\n"
   ]
  },
  {
   "cell_type": "code",
   "execution_count": null,
   "id": "e40584fa",
   "metadata": {},
   "outputs": [],
   "source": []
  },
  {
   "cell_type": "code",
   "execution_count": null,
   "id": "b9f5a66d",
   "metadata": {},
   "outputs": [],
   "source": []
  }
 ],
 "metadata": {
  "kernelspec": {
   "display_name": "venv",
   "language": "python",
   "name": "venv"
  },
  "language_info": {
   "codemirror_mode": {
    "name": "ipython",
    "version": 3
   },
   "file_extension": ".py",
   "mimetype": "text/x-python",
   "name": "python",
   "nbconvert_exporter": "python",
   "pygments_lexer": "ipython3",
   "version": "3.10.7"
  }
 },
 "nbformat": 4,
 "nbformat_minor": 5
}
